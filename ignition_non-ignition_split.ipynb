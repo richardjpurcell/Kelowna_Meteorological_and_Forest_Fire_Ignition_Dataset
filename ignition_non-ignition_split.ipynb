{
 "cells": [
  {
   "cell_type": "markdown",
   "id": "2650fc37",
   "metadata": {},
   "source": [
    "## Kelowna Meteorological and Forest Fire Ignition Dataset \n",
    "This notebook provides a summary of the Kelowna Dataset. It also outputs rows with non-ignitions(0) and rows with ignitions(1) as distinct files."
   ]
  },
  {
   "cell_type": "markdown",
   "id": "a5dd587c",
   "metadata": {},
   "source": [
    "The Kelowna Data Set contains meteorological and fire ignition data for the area surrounding Kelowna, British Columbia, Canada. It covers the years from 1980 to 2020 at a temporal resolution of 1 hour. The months from October thru March are excluded. This document contains summary histograms of the data set, a numerical summary of each feature, a description of each feature, and a location map of the data points."
   ]
  },
  {
   "cell_type": "code",
   "execution_count": 1,
   "id": "22c727c9",
   "metadata": {},
   "outputs": [],
   "source": [
    "import pandas as pd"
   ]
  },
  {
   "cell_type": "code",
   "execution_count": 2,
   "id": "3dbcc5a6",
   "metadata": {},
   "outputs": [],
   "source": [
    "path = \"./finals/kelowna_dataset/\""
   ]
  },
  {
   "cell_type": "code",
   "execution_count": 3,
   "id": "083e01ab",
   "metadata": {},
   "outputs": [],
   "source": [
    "# create dataframes\n",
    "features = pd.read_csv(path + \"features_kelowna.csv\")\n",
    "targets = pd.read_csv(path + \"targets_kelowna.csv\")"
   ]
  },
  {
   "cell_type": "code",
   "execution_count": 4,
   "id": "56f9c37a",
   "metadata": {},
   "outputs": [],
   "source": [
    "# concatenate features and targets\n",
    "df = pd.concat([features, targets], axis=1)\n",
    "# remove index columns\n",
    "df = df.drop(['Unnamed: 0', 'X.1', 'X', 'Unnamed: 0'], axis=1)"
   ]
  },
  {
   "cell_type": "code",
   "execution_count": 5,
   "id": "f451043e",
   "metadata": {},
   "outputs": [
    {
     "name": "stdout",
     "output_type": "stream",
     "text": [
      "<class 'pandas.core.frame.DataFrame'>\n",
      "Index: 51918 entries, 3061 to 68437049\n",
      "Data columns (total 26 columns):\n",
      " #   Column    Non-Null Count  Dtype  \n",
      "---  ------    --------------  -----  \n",
      " 0   date      51918 non-null  float64\n",
      " 1   lon       51918 non-null  float64\n",
      " 2   lat       51918 non-null  float64\n",
      " 3   u10       51819 non-null  float64\n",
      " 4   v10       51819 non-null  float64\n",
      " 5   d2m       51819 non-null  float64\n",
      " 6   t2m       51819 non-null  float64\n",
      " 7   e         51819 non-null  float64\n",
      " 8   cvh       51819 non-null  float64\n",
      " 9   cvl       51819 non-null  float64\n",
      " 10  skt       51819 non-null  float64\n",
      " 11  stl1      51819 non-null  float64\n",
      " 12  stl2      51819 non-null  float64\n",
      " 13  stl3      51819 non-null  float64\n",
      " 14  stl4      51819 non-null  float64\n",
      " 15  slt       51819 non-null  float64\n",
      " 16  sp        51819 non-null  float64\n",
      " 17  tp        51819 non-null  float64\n",
      " 18  swvl1     51819 non-null  float64\n",
      " 19  swvl2     51819 non-null  float64\n",
      " 20  swvl3     51819 non-null  float64\n",
      " 21  swvl4     51819 non-null  float64\n",
      " 22  month     51918 non-null  int64  \n",
      " 23  day       51918 non-null  int64  \n",
      " 24  hour      51918 non-null  int64  \n",
      " 25  ignition  51918 non-null  int64  \n",
      "dtypes: float64(22), int64(4)\n",
      "memory usage: 10.7 MB\n"
     ]
    }
   ],
   "source": [
    "# select only rows with ignitions\n",
    "df_ignitions = df.loc[df['ignition'] > 0]\n",
    "df_ignitions.info()"
   ]
  },
  {
   "cell_type": "code",
   "execution_count": 6,
   "id": "5e588b32",
   "metadata": {},
   "outputs": [
    {
     "name": "stdout",
     "output_type": "stream",
     "text": [
      "<class 'pandas.core.frame.DataFrame'>\n",
      "Index: 68385282 entries, 0 to 68437199\n",
      "Data columns (total 26 columns):\n",
      " #   Column    Dtype  \n",
      "---  ------    -----  \n",
      " 0   date      float64\n",
      " 1   lon       float64\n",
      " 2   lat       float64\n",
      " 3   u10       float64\n",
      " 4   v10       float64\n",
      " 5   d2m       float64\n",
      " 6   t2m       float64\n",
      " 7   e         float64\n",
      " 8   cvh       float64\n",
      " 9   cvl       float64\n",
      " 10  skt       float64\n",
      " 11  stl1      float64\n",
      " 12  stl2      float64\n",
      " 13  stl3      float64\n",
      " 14  stl4      float64\n",
      " 15  slt       float64\n",
      " 16  sp        float64\n",
      " 17  tp        float64\n",
      " 18  swvl1     float64\n",
      " 19  swvl2     float64\n",
      " 20  swvl3     float64\n",
      " 21  swvl4     float64\n",
      " 22  month     int64  \n",
      " 23  day       int64  \n",
      " 24  hour      int64  \n",
      " 25  ignition  int64  \n",
      "dtypes: float64(22), int64(4)\n",
      "memory usage: 13.8 GB\n"
     ]
    }
   ],
   "source": [
    "# select only rows with ignitions\n",
    "df_non_ignitions = df.loc[df['ignition'] == 0]\n",
    "df_non_ignitions.info()"
   ]
  },
  {
   "cell_type": "code",
   "execution_count": 8,
   "id": "e8aa817e",
   "metadata": {},
   "outputs": [],
   "source": [
    "df_non_ignitions_100000 = df_non_ignitions.sample(n = 100000, random_state = 42)"
   ]
  },
  {
   "cell_type": "code",
   "execution_count": 11,
   "id": "86231564",
   "metadata": {},
   "outputs": [],
   "source": [
    "# write out the dataframes as csv\n",
    "#df_non_ignitions.to_csv(path+\"non_ignition_rows.csv\", index=False)\n",
    "#df_ignitions.to_csv(path+\"ignition_rows.csv\", index=False)\n",
    "df_non_ignitions_100000.to_csv(path+\"non_ignition_rows_100000.csv\", index=False)"
   ]
  },
  {
   "cell_type": "markdown",
   "id": "8dc1d196",
   "metadata": {},
   "source": [
    "The Kelowna Data Set contains modified Copernicus Climate Change Service information from 2020. We have reduced the number of features contained in the information, the geographic area represented, and the number of years available. Neither the European Commission nor ECMWF is responsible for any use that may be made of the Copernicus information or data it contains.\n",
    "\n",
    "For more information refer to:\n",
    "\n",
    "Copernicus Climate Change Service (C3S) (2023): ERA5 hourly data on single levels from 1940 to present. Copernicus Climate Change Service (C3S) Climate Data Store (CDS). 10.24381/cds.adbb2d47 (Accessed on 07-MAR-2023)\n",
    "\n",
    "Hersbach, H., Bell, B., Berrisford, P., Biavati, G., Horányi, A., Muñoz Sabater, J., Nicolas, J., Peubey, C., Radu, R., Rozum, I., Schepers, D., Simmons, A., Soci, C., Dee, D., Thépaut, J-N. (2018): ERA5 hourly data on single levels from 1940 to present. Copernicus Climate Change Service (C3S) Climate Data Store (CDS). 10.24381/cds.adbb2d47 (Accessed on 07-MAR-2023)"
   ]
  },
  {
   "cell_type": "code",
   "execution_count": null,
   "id": "ddc4c63e",
   "metadata": {},
   "outputs": [],
   "source": []
  }
 ],
 "metadata": {
  "kernelspec": {
   "display_name": "Python 3 (ipykernel)",
   "language": "python",
   "name": "python3"
  },
  "language_info": {
   "codemirror_mode": {
    "name": "ipython",
    "version": 3
   },
   "file_extension": ".py",
   "mimetype": "text/x-python",
   "name": "python",
   "nbconvert_exporter": "python",
   "pygments_lexer": "ipython3",
   "version": "3.8.16"
  }
 },
 "nbformat": 4,
 "nbformat_minor": 5
}
